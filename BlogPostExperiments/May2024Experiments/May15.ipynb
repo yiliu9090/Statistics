{
 "cells": [
  {
   "cell_type": "markdown",
   "metadata": {},
   "source": [
    "## Consider Bayesian Posterior Finding from a diffusion Perspective "
   ]
  },
  {
   "cell_type": "code",
   "execution_count": 12,
   "metadata": {},
   "outputs": [],
   "source": [
    "import numpy as np \n",
    "import matplotlib.pyplot as plt"
   ]
  },
  {
   "cell_type": "code",
   "execution_count": 13,
   "metadata": {},
   "outputs": [],
   "source": [
    "random_data = np.random.normal(1.0, 1.0, size = (20,2))"
   ]
  },
  {
   "cell_type": "code",
   "execution_count": 14,
   "metadata": {},
   "outputs": [],
   "source": [
    "normal_prior_mean = np.array([0., 0.])\n",
    "normal_prior_sd   = 5"
   ]
  },
  {
   "cell_type": "code",
   "execution_count": 17,
   "metadata": {},
   "outputs": [],
   "source": [
    "def bayesian_update(prior_mean: np.array , prior_sd: float, data: np.array, data_sd: float):\n",
    "    data_mean = np.mean(data, axis = 1)\n",
    "    data_mean_var = data_sd**2/data.shape[0]\n",
    "    prior_var = prior_sd**2 \n",
    "    posterior_var = 1./(1./data_mean_var + 1./prior_var)\n",
    "    posterior_mean = posterior_var*(1./data_mean_var*data_mean + 1./prior_var*prior_mean)\n",
    "    return posterior_mean, np.sqrt(posterior_var)\n",
    "    "
   ]
  },
  {
   "cell_type": "code",
   "execution_count": null,
   "metadata": {},
   "outputs": [],
   "source": [
    "posterior_data "
   ]
  }
 ],
 "metadata": {
  "kernelspec": {
   "display_name": "base",
   "language": "python",
   "name": "python3"
  },
  "language_info": {
   "codemirror_mode": {
    "name": "ipython",
    "version": 3
   },
   "file_extension": ".py",
   "mimetype": "text/x-python",
   "name": "python",
   "nbconvert_exporter": "python",
   "pygments_lexer": "ipython3",
   "version": "3.11.5"
  }
 },
 "nbformat": 4,
 "nbformat_minor": 2
}
